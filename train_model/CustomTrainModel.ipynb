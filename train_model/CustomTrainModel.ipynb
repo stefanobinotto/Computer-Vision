{
  "cells": [
    {
      "cell_type": "markdown",
      "source": [
        "# **Custom YOLOv5**\n",
        "#### **Stefano Binotto** (*matr*. 2052421) with the special contribution of **Edoardo Bastianello** (*matr*. 2053077) for the shooting of the images to include in the datasets on which we trained and validated the model.\n",
        "\n",
        "The labeling was performed using [Make Sense](https://www.makesense.ai/).\n",
        " "
      ],
      "metadata": {
        "id": "e_nsV9YYVRek"
      }
    },
    {
      "cell_type": "markdown",
      "metadata": {
        "id": "7mGmQbAO5pQb"
      },
      "source": [
        "## 1. Setup\n",
        "\n",
        "Clone the official repository, install all the necessary dependencies and load the datasets."
      ]
    },
    {
      "cell_type": "code",
      "execution_count": null,
      "metadata": {
        "colab": {
          "base_uri": "https://localhost:8080/"
        },
        "id": "wbvMlHd_QwMG",
        "outputId": "f14a1f8f-779d-42d0-ebe4-62ddb8148fa8"
      },
      "outputs": [
        {
          "output_type": "stream",
          "name": "stderr",
          "text": [
            "YOLOv5 🚀 v6.1-304-g51fb467 Python-3.7.13 torch-1.11.0+cu102 CUDA:0 (Tesla T4, 15110MiB)\n"
          ]
        },
        {
          "output_type": "stream",
          "name": "stdout",
          "text": [
            "Setup complete ✅ (2 CPUs, 12.7 GB RAM, 41.2/78.2 GB disk)\n"
          ]
        }
      ],
      "source": [
        "!git clone https://github.com/ultralytics/yolov5  # clone\n",
        "\n",
        "# install all the dependencies\n",
        "%cd yolov5 # move to the directory containing \"requirements.txt\"\n",
        "%pip install -qr requirements.txt  # install\n",
        "\n",
        "# importing necessary modules\n",
        "import torch\n",
        "import utils\n",
        "\n",
        "display = utils.notebook_init()  # checks"
      ]
    },
    {
      "cell_type": "markdown",
      "source": [
        "Load and unzip all the datasets."
      ],
      "metadata": {
        "id": "8crrfnO9UVFs"
      }
    },
    {
      "cell_type": "code",
      "source": [
        "# mount my personal Google Drive \"drive\" folder \n",
        "# in order to speed up the loading of the images \n",
        "from google.colab import drive\n",
        "drive.mount(\"/content/drive/\")"
      ],
      "metadata": {
        "colab": {
          "base_uri": "https://localhost:8080/"
        },
        "id": "AJ96JYWLgGcv",
        "outputId": "37dad7fa-b0d1-4986-9256-ffa790930c00"
      },
      "execution_count": null,
      "outputs": [
        {
          "output_type": "stream",
          "name": "stdout",
          "text": [
            "Mounted at /content/drive/\n"
          ]
        }
      ]
    },
    {
      "cell_type": "code",
      "execution_count": null,
      "metadata": {
        "id": "fJgrdxiwkJOt"
      },
      "outputs": [],
      "source": [
        "# unzip trainingset and testset\n",
        "!unzip -q ../drive/MyDrive/train_data.zip -d ../\n",
        "!unzip -q ../drive/MyDrive/test.zip -d ../"
      ]
    },
    {
      "cell_type": "markdown",
      "metadata": {
        "id": "ZY2VXXXu74w5"
      },
      "source": [
        "## 2. Train on Custom Dataset\n",
        "\n",
        "Training the model on the dataset I uploaded on my Drive folder. \n",
        "\n",
        "In order to perform transfer learning I had to rewrite the configuration file \"***custom_data.yaml***\" to specify the location of the training set and the classes we want the model to be able to predict.\n",
        "The best model is saved in \"runs/train/exp/weights/best.pt\", while the model of the last epoch is saved in \"runs/train/exp/weights/last.pt\".\n",
        "\n",
        "The pre-trained weigths we used as initialization are the one related to the [YOLOV5m.pt](https://github.com/ultralytics/yolov5/wiki/Tips-for-Best-Training-Results#:~:text=for%20background%20images.-,Model%20Selection,-Larger%20models%20like) model, which has about 21 million parameters, which makes it a very accurate model but still quite light.\n",
        "\n",
        "- Custom Trainingset: [link](https://drive.google.com/file/d/1B4DFxi3NhfrCJVFZX9WnrT5qizKkck9K/view?usp=sharing)"
      ]
    },
    {
      "cell_type": "code",
      "execution_count": null,
      "metadata": {
        "colab": {
          "base_uri": "https://localhost:8080/"
        },
        "id": "1NcFxRcFdJ_O",
        "outputId": "a3788c86-ca66-412d-babb-1d6fe9eac71c"
      },
      "outputs": [
        {
          "output_type": "stream",
          "name": "stdout",
          "text": [
            "\u001b[34m\u001b[1mtrain: \u001b[0mweights=yolov5m.pt, cfg=, data=custom_data.yaml, hyp=data/hyps/hyp.scratch-low.yaml, epochs=60, batch_size=5, imgsz=640, rect=False, resume=False, nosave=False, noval=False, noautoanchor=False, noplots=False, evolve=None, bucket=, cache=ram, image_weights=False, device=, multi_scale=False, single_cls=False, optimizer=SGD, sync_bn=False, workers=8, project=runs/train, name=exp, exist_ok=False, quad=False, cos_lr=False, label_smoothing=0.0, patience=100, freeze=[0], save_period=-1, seed=0, local_rank=-1, entity=None, upload_dataset=False, bbox_interval=-1, artifact_alias=latest\n",
            "\u001b[34m\u001b[1mgithub: \u001b[0mup to date with https://github.com/ultralytics/yolov5 ✅\n",
            "YOLOv5 🚀 v6.1-304-g51fb467 Python-3.7.13 torch-1.11.0+cu102 CUDA:0 (Tesla T4, 15110MiB)\n",
            "\n",
            "\u001b[34m\u001b[1mhyperparameters: \u001b[0mlr0=0.01, lrf=0.01, momentum=0.937, weight_decay=0.0005, warmup_epochs=3.0, warmup_momentum=0.8, warmup_bias_lr=0.1, box=0.05, cls=0.5, cls_pw=1.0, obj=1.0, obj_pw=1.0, iou_t=0.2, anchor_t=4.0, fl_gamma=0.0, hsv_h=0.015, hsv_s=0.7, hsv_v=0.4, degrees=0.0, translate=0.1, scale=0.5, shear=0.0, perspective=0.0, flipud=0.0, fliplr=0.5, mosaic=1.0, mixup=0.0, copy_paste=0.0\n",
            "\u001b[34m\u001b[1mWeights & Biases: \u001b[0mrun 'pip install wandb' to automatically track and visualize YOLOv5 🚀 runs (RECOMMENDED)\n",
            "\u001b[34m\u001b[1mTensorBoard: \u001b[0mStart with 'tensorboard --logdir runs/train', view at http://localhost:6006/\n",
            "Downloading https://ultralytics.com/assets/Arial.ttf to /root/.config/Ultralytics/Arial.ttf...\n",
            "100% 755k/755k [00:00<00:00, 112MB/s]\n",
            "Downloading https://github.com/ultralytics/yolov5/releases/download/v6.1/yolov5m.pt to yolov5m.pt...\n",
            "100% 40.8M/40.8M [00:03<00:00, 12.3MB/s]\n",
            "\n",
            "Overriding model.yaml nc=80 with nc=1\n",
            "\n",
            "                 from  n    params  module                                  arguments                     \n",
            "  0                -1  1      5280  models.common.Conv                      [3, 48, 6, 2, 2]              \n",
            "  1                -1  1     41664  models.common.Conv                      [48, 96, 3, 2]                \n",
            "  2                -1  2     65280  models.common.C3                        [96, 96, 2]                   \n",
            "  3                -1  1    166272  models.common.Conv                      [96, 192, 3, 2]               \n",
            "  4                -1  4    444672  models.common.C3                        [192, 192, 4]                 \n",
            "  5                -1  1    664320  models.common.Conv                      [192, 384, 3, 2]              \n",
            "  6                -1  6   2512896  models.common.C3                        [384, 384, 6]                 \n",
            "  7                -1  1   2655744  models.common.Conv                      [384, 768, 3, 2]              \n",
            "  8                -1  2   4134912  models.common.C3                        [768, 768, 2]                 \n",
            "  9                -1  1   1476864  models.common.SPPF                      [768, 768, 5]                 \n",
            " 10                -1  1    295680  models.common.Conv                      [768, 384, 1, 1]              \n",
            " 11                -1  1         0  torch.nn.modules.upsampling.Upsample    [None, 2, 'nearest']          \n",
            " 12           [-1, 6]  1         0  models.common.Concat                    [1]                           \n",
            " 13                -1  2   1182720  models.common.C3                        [768, 384, 2, False]          \n",
            " 14                -1  1     74112  models.common.Conv                      [384, 192, 1, 1]              \n",
            " 15                -1  1         0  torch.nn.modules.upsampling.Upsample    [None, 2, 'nearest']          \n",
            " 16           [-1, 4]  1         0  models.common.Concat                    [1]                           \n",
            " 17                -1  2    296448  models.common.C3                        [384, 192, 2, False]          \n",
            " 18                -1  1    332160  models.common.Conv                      [192, 192, 3, 2]              \n",
            " 19          [-1, 14]  1         0  models.common.Concat                    [1]                           \n",
            " 20                -1  2   1035264  models.common.C3                        [384, 384, 2, False]          \n",
            " 21                -1  1   1327872  models.common.Conv                      [384, 384, 3, 2]              \n",
            " 22          [-1, 10]  1         0  models.common.Concat                    [1]                           \n",
            " 23                -1  2   4134912  models.common.C3                        [768, 768, 2, False]          \n",
            " 24      [17, 20, 23]  1     24246  models.yolo.Detect                      [1, [[10, 13, 16, 30, 33, 23], [30, 61, 62, 45, 59, 119], [116, 90, 156, 198, 373, 326]], [192, 384, 768]]\n",
            "Model summary: 369 layers, 20871318 parameters, 20871318 gradients, 48.2 GFLOPs\n",
            "\n",
            "Transferred 475/481 items from yolov5m.pt\n",
            "\u001b[34m\u001b[1mAMP: \u001b[0mchecks passed ✅\n",
            "Scaled weight_decay = 0.0005078125\n",
            "\u001b[34m\u001b[1moptimizer:\u001b[0m SGD with parameter groups 79 weight (no decay), 82 weight, 82 bias\n",
            "\u001b[34m\u001b[1malbumentations: \u001b[0mversion 1.0.3 required by YOLOv5, but version 0.1.12 is currently installed\n",
            "\u001b[34m\u001b[1mtrain: \u001b[0mScanning '/content/yolov5/../train_data/labels/train' images and labels...513 found, 25 missing, 0 empty, 2 corrupt: 100% 540/540 [00:00<00:00, 1006.87it/s]\n",
            "\u001b[34m\u001b[1mtrain: \u001b[0mWARNING: /content/yolov5/../train_data/images/train/153.jpg: corrupt JPEG restored and saved\n",
            "\u001b[34m\u001b[1mtrain: \u001b[0mWARNING: /content/yolov5/../train_data/images/train/216.jpg: ignoring corrupt image/label: invalid image format GIF\n",
            "\u001b[34m\u001b[1mtrain: \u001b[0mWARNING: /content/yolov5/../train_data/images/train/221.jpg: ignoring corrupt image/label: invalid image format GIF\n",
            "\u001b[34m\u001b[1mtrain: \u001b[0mNew cache created: /content/yolov5/../train_data/labels/train.cache\n",
            "\u001b[34m\u001b[1mtrain: \u001b[0mCaching images (0.5GB ram): 100% 538/538 [00:07<00:00, 75.71it/s]\n",
            "\u001b[34m\u001b[1mval: \u001b[0mScanning '/content/yolov5/../train_data/labels/val' images and labels...20 found, 0 missing, 0 empty, 0 corrupt: 100% 20/20 [00:00<00:00, 82.92it/s]\n",
            "\u001b[34m\u001b[1mval: \u001b[0mNew cache created: /content/yolov5/../train_data/labels/val.cache\n",
            "\u001b[34m\u001b[1mval: \u001b[0mCaching images (0.0GB ram): 100% 20/20 [00:00<00:00, 34.37it/s]\n",
            "Plotting labels to runs/train/exp/labels.jpg... \n",
            "\n",
            "\u001b[34m\u001b[1mAutoAnchor: \u001b[0m4.98 anchors/target, 0.999 Best Possible Recall (BPR). Current anchors are a good fit to dataset ✅\n",
            "Image sizes 640 train, 640 val\n",
            "Using 2 dataloader workers\n",
            "Logging results to \u001b[1mruns/train/exp\u001b[0m\n",
            "Starting training for 60 epochs...\n",
            "\n",
            "     Epoch   gpu_mem       box       obj       cls    labels  img_size\n",
            "      0/59     2.11G   0.08917   0.03773         0         8       640: 100% 108/108 [00:21<00:00,  5.11it/s]\n",
            "               Class     Images     Labels          P          R     mAP@.5 mAP@.5:.95: 100% 2/2 [00:00<00:00,  5.99it/s]\n",
            "                 all         20         43      0.198      0.419      0.234     0.0748\n",
            "\n",
            "     Epoch   gpu_mem       box       obj       cls    labels  img_size\n",
            "      1/59     2.58G   0.07041   0.03385         0        10       640: 100% 108/108 [00:17<00:00,  6.11it/s]\n",
            "               Class     Images     Labels          P          R     mAP@.5 mAP@.5:.95: 100% 2/2 [00:00<00:00,  8.16it/s]\n",
            "                 all         20         43      0.522      0.508      0.556      0.214\n",
            "\n",
            "     Epoch   gpu_mem       box       obj       cls    labels  img_size\n",
            "      2/59     2.58G   0.06522   0.02938         0         8       640: 100% 108/108 [00:17<00:00,  6.08it/s]\n",
            "               Class     Images     Labels          P          R     mAP@.5 mAP@.5:.95: 100% 2/2 [00:00<00:00,  8.13it/s]\n",
            "                 all         20         43      0.648      0.372      0.471      0.179\n",
            "\n",
            "     Epoch   gpu_mem       box       obj       cls    labels  img_size\n",
            "      3/59     2.58G    0.0566   0.02665         0        13       640: 100% 108/108 [00:17<00:00,  6.01it/s]\n",
            "               Class     Images     Labels          P          R     mAP@.5 mAP@.5:.95: 100% 2/2 [00:00<00:00,  7.52it/s]\n",
            "                 all         20         43      0.599      0.674      0.603      0.344\n",
            "\n",
            "     Epoch   gpu_mem       box       obj       cls    labels  img_size\n",
            "      4/59     2.58G   0.05322    0.0235         0         7       640: 100% 108/108 [00:18<00:00,  5.73it/s]\n",
            "               Class     Images     Labels          P          R     mAP@.5 mAP@.5:.95: 100% 2/2 [00:00<00:00,  8.32it/s]\n",
            "                 all         20         43       0.61      0.674      0.731      0.345\n",
            "\n",
            "     Epoch   gpu_mem       box       obj       cls    labels  img_size\n",
            "      5/59     2.58G   0.04702   0.02339         0        10       640: 100% 108/108 [00:18<00:00,  5.84it/s]\n",
            "               Class     Images     Labels          P          R     mAP@.5 mAP@.5:.95: 100% 2/2 [00:00<00:00,  7.74it/s]\n",
            "                 all         20         43       0.74      0.814      0.829      0.458\n",
            "\n",
            "     Epoch   gpu_mem       box       obj       cls    labels  img_size\n",
            "      6/59     2.58G   0.04065   0.02197         0         6       640: 100% 108/108 [00:18<00:00,  5.84it/s]\n",
            "               Class     Images     Labels          P          R     mAP@.5 mAP@.5:.95: 100% 2/2 [00:00<00:00,  8.07it/s]\n",
            "                 all         20         43          1      0.858      0.936       0.57\n",
            "\n",
            "     Epoch   gpu_mem       box       obj       cls    labels  img_size\n",
            "      7/59     2.58G    0.0379   0.02146         0         8       640: 100% 108/108 [00:18<00:00,  5.86it/s]\n",
            "               Class     Images     Labels          P          R     mAP@.5 mAP@.5:.95: 100% 2/2 [00:00<00:00,  8.07it/s]\n",
            "                 all         20         43      0.954      0.791      0.888      0.487\n",
            "\n",
            "     Epoch   gpu_mem       box       obj       cls    labels  img_size\n",
            "      8/59     2.58G   0.03618   0.02156         0        13       640: 100% 108/108 [00:18<00:00,  5.87it/s]\n",
            "               Class     Images     Labels          P          R     mAP@.5 mAP@.5:.95: 100% 2/2 [00:00<00:00,  8.09it/s]\n",
            "                 all         20         43      0.933      0.907      0.955      0.601\n",
            "\n",
            "     Epoch   gpu_mem       box       obj       cls    labels  img_size\n",
            "      9/59     2.58G   0.03534   0.02105         0        18       640: 100% 108/108 [00:18<00:00,  5.88it/s]\n",
            "               Class     Images     Labels          P          R     mAP@.5 mAP@.5:.95: 100% 2/2 [00:00<00:00,  8.31it/s]\n",
            "                 all         20         43      0.857      0.834      0.854       0.49\n",
            "\n",
            "     Epoch   gpu_mem       box       obj       cls    labels  img_size\n",
            "     10/59     2.58G   0.03203    0.0197         0         8       640: 100% 108/108 [00:18<00:00,  5.85it/s]\n",
            "               Class     Images     Labels          P          R     mAP@.5 mAP@.5:.95: 100% 2/2 [00:00<00:00,  7.59it/s]\n",
            "                 all         20         43      0.839       0.85      0.898      0.571\n",
            "\n",
            "     Epoch   gpu_mem       box       obj       cls    labels  img_size\n",
            "     11/59     2.58G   0.03033   0.01893         0        10       640: 100% 108/108 [00:18<00:00,  5.84it/s]\n",
            "               Class     Images     Labels          P          R     mAP@.5 mAP@.5:.95: 100% 2/2 [00:00<00:00,  8.02it/s]\n",
            "                 all         20         43      0.992      0.698      0.852      0.553\n",
            "\n",
            "     Epoch   gpu_mem       box       obj       cls    labels  img_size\n",
            "     12/59     2.58G   0.03061   0.01907         0        11       640: 100% 108/108 [00:19<00:00,  5.65it/s]\n",
            "               Class     Images     Labels          P          R     mAP@.5 mAP@.5:.95: 100% 2/2 [00:00<00:00,  7.95it/s]\n",
            "                 all         20         43      0.919      0.789      0.892      0.597\n",
            "\n",
            "     Epoch   gpu_mem       box       obj       cls    labels  img_size\n",
            "     13/59     2.58G   0.02966   0.01845         0        10       640: 100% 108/108 [00:18<00:00,  5.88it/s]\n",
            "               Class     Images     Labels          P          R     mAP@.5 mAP@.5:.95: 100% 2/2 [00:00<00:00,  8.11it/s]\n",
            "                 all         20         43      0.997      0.814      0.926      0.631\n",
            "\n",
            "     Epoch   gpu_mem       box       obj       cls    labels  img_size\n",
            "     14/59     2.58G   0.03011   0.01734         0        14       640: 100% 108/108 [00:18<00:00,  5.86it/s]\n",
            "               Class     Images     Labels          P          R     mAP@.5 mAP@.5:.95: 100% 2/2 [00:00<00:00,  7.90it/s]\n",
            "                 all         20         43      0.922      0.821      0.896      0.539\n",
            "\n",
            "     Epoch   gpu_mem       box       obj       cls    labels  img_size\n",
            "     15/59     2.58G   0.02949   0.01818         0         6       640: 100% 108/108 [00:18<00:00,  5.83it/s]\n",
            "               Class     Images     Labels          P          R     mAP@.5 mAP@.5:.95: 100% 2/2 [00:00<00:00,  8.10it/s]\n",
            "                 all         20         43      0.961       0.86      0.927      0.619\n",
            "\n",
            "     Epoch   gpu_mem       box       obj       cls    labels  img_size\n",
            "     16/59     2.58G   0.02926   0.01846         0        10       640: 100% 108/108 [00:18<00:00,  5.86it/s]\n",
            "               Class     Images     Labels          P          R     mAP@.5 mAP@.5:.95: 100% 2/2 [00:00<00:00,  7.98it/s]\n",
            "                 all         20         43      0.927      0.886      0.914      0.642\n",
            "\n",
            "     Epoch   gpu_mem       box       obj       cls    labels  img_size\n",
            "     17/59     2.58G   0.02693   0.01747         0         5       640: 100% 108/108 [00:18<00:00,  5.87it/s]\n",
            "               Class     Images     Labels          P          R     mAP@.5 mAP@.5:.95: 100% 2/2 [00:00<00:00,  8.25it/s]\n",
            "                 all         20         43      0.897      0.837      0.878       0.59\n",
            "\n",
            "     Epoch   gpu_mem       box       obj       cls    labels  img_size\n",
            "     18/59     2.58G   0.02715    0.0179         0        13       640: 100% 108/108 [00:18<00:00,  5.84it/s]\n",
            "               Class     Images     Labels          P          R     mAP@.5 mAP@.5:.95: 100% 2/2 [00:00<00:00,  8.22it/s]\n",
            "                 all         20         43      0.922       0.83      0.896      0.607\n",
            "\n",
            "     Epoch   gpu_mem       box       obj       cls    labels  img_size\n",
            "     19/59     2.58G   0.02654   0.01671         0        11       640: 100% 108/108 [00:18<00:00,  5.84it/s]\n",
            "               Class     Images     Labels          P          R     mAP@.5 mAP@.5:.95: 100% 2/2 [00:00<00:00,  7.75it/s]\n",
            "                 all         20         43      0.912      0.884      0.937      0.667\n",
            "\n",
            "     Epoch   gpu_mem       box       obj       cls    labels  img_size\n",
            "     20/59     2.58G   0.02714   0.01701         0        21       640: 100% 108/108 [00:18<00:00,  5.85it/s]\n",
            "               Class     Images     Labels          P          R     mAP@.5 mAP@.5:.95: 100% 2/2 [00:00<00:00,  8.00it/s]\n",
            "                 all         20         43          1      0.858      0.935      0.658\n",
            "\n",
            "     Epoch   gpu_mem       box       obj       cls    labels  img_size\n",
            "     21/59     2.58G   0.02534     0.017         0         7       640: 100% 108/108 [00:19<00:00,  5.63it/s]\n",
            "               Class     Images     Labels          P          R     mAP@.5 mAP@.5:.95: 100% 2/2 [00:00<00:00,  8.15it/s]\n",
            "                 all         20         43      0.948       0.85      0.925      0.627\n",
            "\n",
            "     Epoch   gpu_mem       box       obj       cls    labels  img_size\n",
            "     22/59     2.58G   0.02524   0.01612         0         9       640: 100% 108/108 [00:18<00:00,  5.89it/s]\n",
            "               Class     Images     Labels          P          R     mAP@.5 mAP@.5:.95: 100% 2/2 [00:00<00:00,  8.27it/s]\n",
            "                 all         20         43      0.864      0.907      0.931      0.659\n",
            "\n",
            "     Epoch   gpu_mem       box       obj       cls    labels  img_size\n",
            "     23/59     2.58G   0.02457   0.01627         0        12       640: 100% 108/108 [00:18<00:00,  5.87it/s]\n",
            "               Class     Images     Labels          P          R     mAP@.5 mAP@.5:.95: 100% 2/2 [00:00<00:00,  8.24it/s]\n",
            "                 all         20         43      0.926      0.873      0.927       0.66\n",
            "\n",
            "     Epoch   gpu_mem       box       obj       cls    labels  img_size\n",
            "     24/59     2.58G   0.02489   0.01683         0        13       640: 100% 108/108 [00:18<00:00,  5.88it/s]\n",
            "               Class     Images     Labels          P          R     mAP@.5 mAP@.5:.95: 100% 2/2 [00:00<00:00,  8.26it/s]\n",
            "                 all         20         43      0.912       0.86      0.911      0.681\n",
            "\n",
            "     Epoch   gpu_mem       box       obj       cls    labels  img_size\n",
            "     25/59     2.58G    0.0235   0.01567         0        11       640: 100% 108/108 [00:18<00:00,  5.84it/s]\n",
            "               Class     Images     Labels          P          R     mAP@.5 mAP@.5:.95: 100% 2/2 [00:00<00:00,  8.18it/s]\n",
            "                 all         20         43      0.889      0.884      0.924      0.674\n",
            "\n",
            "     Epoch   gpu_mem       box       obj       cls    labels  img_size\n",
            "     26/59     2.58G   0.02288   0.01526         0         9       640: 100% 108/108 [00:18<00:00,  5.88it/s]\n",
            "               Class     Images     Labels          P          R     mAP@.5 mAP@.5:.95: 100% 2/2 [00:00<00:00,  8.18it/s]\n",
            "                 all         20         43      0.904      0.879      0.932      0.697\n",
            "\n",
            "     Epoch   gpu_mem       box       obj       cls    labels  img_size\n",
            "     27/59     2.58G   0.02353   0.01521         0         5       640: 100% 108/108 [00:18<00:00,  5.87it/s]\n",
            "               Class     Images     Labels          P          R     mAP@.5 mAP@.5:.95: 100% 2/2 [00:00<00:00,  7.92it/s]\n",
            "                 all         20         43      0.995      0.791      0.927      0.719\n",
            "\n",
            "     Epoch   gpu_mem       box       obj       cls    labels  img_size\n",
            "     28/59     2.58G   0.02223    0.0147         0         9       640: 100% 108/108 [00:18<00:00,  5.87it/s]\n",
            "               Class     Images     Labels          P          R     mAP@.5 mAP@.5:.95: 100% 2/2 [00:00<00:00,  7.99it/s]\n",
            "                 all         20         43      0.948      0.852      0.923      0.694\n",
            "\n",
            "     Epoch   gpu_mem       box       obj       cls    labels  img_size\n",
            "     29/59     2.58G   0.02279   0.01509         0         9       640: 100% 108/108 [00:18<00:00,  5.87it/s]\n",
            "               Class     Images     Labels          P          R     mAP@.5 mAP@.5:.95: 100% 2/2 [00:00<00:00,  8.02it/s]\n",
            "                 all         20         43       0.95       0.88      0.925      0.668\n",
            "\n",
            "     Epoch   gpu_mem       box       obj       cls    labels  img_size\n",
            "     30/59     2.58G   0.02192   0.01472         0         9       640: 100% 108/108 [00:19<00:00,  5.63it/s]\n",
            "               Class     Images     Labels          P          R     mAP@.5 mAP@.5:.95: 100% 2/2 [00:00<00:00,  8.10it/s]\n",
            "                 all         20         43       0.95      0.883      0.922       0.69\n",
            "\n",
            "     Epoch   gpu_mem       box       obj       cls    labels  img_size\n",
            "     31/59     2.58G   0.02186   0.01503         0        24       640: 100% 108/108 [00:18<00:00,  5.86it/s]\n",
            "               Class     Images     Labels          P          R     mAP@.5 mAP@.5:.95: 100% 2/2 [00:00<00:00,  7.97it/s]\n",
            "                 all         20         43          1      0.881      0.935      0.723\n",
            "\n",
            "     Epoch   gpu_mem       box       obj       cls    labels  img_size\n",
            "     32/59     2.58G   0.02161   0.01449         0         5       640: 100% 108/108 [00:18<00:00,  5.87it/s]\n",
            "               Class     Images     Labels          P          R     mAP@.5 mAP@.5:.95: 100% 2/2 [00:00<00:00,  8.09it/s]\n",
            "                 all         20         43          1      0.879      0.935      0.715\n",
            "\n",
            "     Epoch   gpu_mem       box       obj       cls    labels  img_size\n",
            "     33/59     2.58G   0.02041   0.01442         0        10       640: 100% 108/108 [00:18<00:00,  5.86it/s]\n",
            "               Class     Images     Labels          P          R     mAP@.5 mAP@.5:.95: 100% 2/2 [00:00<00:00,  7.90it/s]\n",
            "                 all         20         43          1      0.851      0.922       0.69\n",
            "\n",
            "     Epoch   gpu_mem       box       obj       cls    labels  img_size\n",
            "     34/59     2.58G   0.02031   0.01418         0         8       640: 100% 108/108 [00:18<00:00,  5.85it/s]\n",
            "               Class     Images     Labels          P          R     mAP@.5 mAP@.5:.95: 100% 2/2 [00:00<00:00,  8.00it/s]\n",
            "                 all         20         43      0.945      0.884      0.911      0.707\n",
            "\n",
            "     Epoch   gpu_mem       box       obj       cls    labels  img_size\n",
            "     35/59     2.58G   0.02035   0.01417         0         7       640: 100% 108/108 [00:18<00:00,  5.87it/s]\n",
            "               Class     Images     Labels          P          R     mAP@.5 mAP@.5:.95: 100% 2/2 [00:00<00:00,  7.97it/s]\n",
            "                 all         20         43      0.922      0.825      0.901      0.695\n",
            "\n",
            "     Epoch   gpu_mem       box       obj       cls    labels  img_size\n",
            "     36/59     2.58G   0.01947   0.01358         0        11       640: 100% 108/108 [00:18<00:00,  5.88it/s]\n",
            "               Class     Images     Labels          P          R     mAP@.5 mAP@.5:.95: 100% 2/2 [00:00<00:00,  8.04it/s]\n",
            "                 all         20         43      0.939       0.86      0.903      0.707\n",
            "\n",
            "     Epoch   gpu_mem       box       obj       cls    labels  img_size\n",
            "     37/59     2.58G   0.01898   0.01269         0         6       640: 100% 108/108 [00:18<00:00,  5.85it/s]\n",
            "               Class     Images     Labels          P          R     mAP@.5 mAP@.5:.95: 100% 2/2 [00:00<00:00,  8.24it/s]\n",
            "                 all         20         43      0.932       0.86      0.915      0.705\n",
            "\n",
            "     Epoch   gpu_mem       box       obj       cls    labels  img_size\n",
            "     38/59     2.58G   0.01905   0.01343         0        16       640: 100% 108/108 [00:18<00:00,  5.87it/s]\n",
            "               Class     Images     Labels          P          R     mAP@.5 mAP@.5:.95: 100% 2/2 [00:00<00:00,  8.19it/s]\n",
            "                 all         20         43      0.895       0.86        0.9      0.693\n",
            "\n",
            "     Epoch   gpu_mem       box       obj       cls    labels  img_size\n",
            "     39/59     2.58G   0.01858   0.01294         0        12       640: 100% 108/108 [00:19<00:00,  5.63it/s]\n",
            "               Class     Images     Labels          P          R     mAP@.5 mAP@.5:.95: 100% 2/2 [00:00<00:00,  8.03it/s]\n",
            "                 all         20         43       0.94       0.86      0.903      0.709\n",
            "\n",
            "     Epoch   gpu_mem       box       obj       cls    labels  img_size\n",
            "     40/59     2.58G   0.01765   0.01279         0        11       640: 100% 108/108 [00:18<00:00,  5.90it/s]\n",
            "               Class     Images     Labels          P          R     mAP@.5 mAP@.5:.95: 100% 2/2 [00:00<00:00,  8.24it/s]\n",
            "                 all         20         43      0.944       0.86      0.922      0.714\n",
            "\n",
            "     Epoch   gpu_mem       box       obj       cls    labels  img_size\n",
            "     41/59     2.58G   0.01834   0.01238         0        30       640: 100% 108/108 [00:18<00:00,  5.88it/s]\n",
            "               Class     Images     Labels          P          R     mAP@.5 mAP@.5:.95: 100% 2/2 [00:00<00:00,  7.99it/s]\n",
            "                 all         20         43      0.881      0.884       0.92      0.708\n",
            "\n",
            "     Epoch   gpu_mem       box       obj       cls    labels  img_size\n",
            "     42/59     2.58G   0.01807   0.01257         0         9       640: 100% 108/108 [00:18<00:00,  5.87it/s]\n",
            "               Class     Images     Labels          P          R     mAP@.5 mAP@.5:.95: 100% 2/2 [00:00<00:00,  7.70it/s]\n",
            "                 all         20         43      0.974      0.882      0.922      0.725\n",
            "\n",
            "     Epoch   gpu_mem       box       obj       cls    labels  img_size\n",
            "     43/59     2.58G   0.01768   0.01238         0         6       640: 100% 108/108 [00:18<00:00,  5.88it/s]\n",
            "               Class     Images     Labels          P          R     mAP@.5 mAP@.5:.95: 100% 2/2 [00:00<00:00,  8.20it/s]\n",
            "                 all         20         43      0.966       0.86       0.93      0.726\n",
            "\n",
            "     Epoch   gpu_mem       box       obj       cls    labels  img_size\n",
            "     44/59     2.58G   0.01649     0.012         0         9       640: 100% 108/108 [00:18<00:00,  5.88it/s]\n",
            "               Class     Images     Labels          P          R     mAP@.5 mAP@.5:.95: 100% 2/2 [00:00<00:00,  8.06it/s]\n",
            "                 all         20         43      0.969       0.86      0.934      0.751\n",
            "\n",
            "     Epoch   gpu_mem       box       obj       cls    labels  img_size\n",
            "     45/59     2.58G   0.01769   0.01268         0        16       640: 100% 108/108 [00:18<00:00,  5.83it/s]\n",
            "               Class     Images     Labels          P          R     mAP@.5 mAP@.5:.95: 100% 2/2 [00:00<00:00,  8.20it/s]\n",
            "                 all         20         43      0.944      0.837      0.923      0.753\n",
            "\n",
            "     Epoch   gpu_mem       box       obj       cls    labels  img_size\n",
            "     46/59     2.58G   0.01672   0.01199         0        15       640: 100% 108/108 [00:18<00:00,  5.89it/s]\n",
            "               Class     Images     Labels          P          R     mAP@.5 mAP@.5:.95: 100% 2/2 [00:00<00:00,  8.21it/s]\n",
            "                 all         20         43      0.905      0.891      0.925      0.708\n",
            "\n",
            "     Epoch   gpu_mem       box       obj       cls    labels  img_size\n",
            "     47/59     2.58G   0.01677   0.01233         0        13       640: 100% 108/108 [00:18<00:00,  5.86it/s]\n",
            "               Class     Images     Labels          P          R     mAP@.5 mAP@.5:.95: 100% 2/2 [00:00<00:00,  8.10it/s]\n",
            "                 all         20         43      0.974      0.881      0.915      0.746\n",
            "\n",
            "     Epoch   gpu_mem       box       obj       cls    labels  img_size\n",
            "     48/59     2.58G   0.01573   0.01193         0        11       640: 100% 108/108 [00:18<00:00,  5.77it/s]\n",
            "               Class     Images     Labels          P          R     mAP@.5 mAP@.5:.95: 100% 2/2 [00:00<00:00,  7.04it/s]\n",
            "                 all         20         43       0.97      0.884      0.923      0.744\n",
            "\n",
            "     Epoch   gpu_mem       box       obj       cls    labels  img_size\n",
            "     49/59     2.58G   0.01579   0.01248         0         8       640: 100% 108/108 [00:18<00:00,  5.83it/s]\n",
            "               Class     Images     Labels          P          R     mAP@.5 mAP@.5:.95: 100% 2/2 [00:00<00:00,  8.11it/s]\n",
            "                 all         20         43       0.96       0.86      0.925      0.743\n",
            "\n",
            "     Epoch   gpu_mem       box       obj       cls    labels  img_size\n",
            "     50/59     2.58G   0.01604   0.01217         0        12       640: 100% 108/108 [00:18<00:00,  5.85it/s]\n",
            "               Class     Images     Labels          P          R     mAP@.5 mAP@.5:.95: 100% 2/2 [00:00<00:00,  8.22it/s]\n",
            "                 all         20         43      0.968       0.86      0.929      0.748\n",
            "\n",
            "     Epoch   gpu_mem       box       obj       cls    labels  img_size\n",
            "     51/59     2.58G   0.01586   0.01204         0        14       640: 100% 108/108 [00:18<00:00,  5.85it/s]\n",
            "               Class     Images     Labels          P          R     mAP@.5 mAP@.5:.95: 100% 2/2 [00:00<00:00,  8.01it/s]\n",
            "                 all         20         43      0.971      0.884      0.941      0.739\n",
            "\n",
            "     Epoch   gpu_mem       box       obj       cls    labels  img_size\n",
            "     52/59     2.58G   0.01612   0.01111         0         5       640: 100% 108/108 [00:18<00:00,  5.90it/s]\n",
            "               Class     Images     Labels          P          R     mAP@.5 mAP@.5:.95: 100% 2/2 [00:00<00:00,  8.12it/s]\n",
            "                 all         20         43      0.973      0.884       0.94      0.744\n",
            "\n",
            "     Epoch   gpu_mem       box       obj       cls    labels  img_size\n",
            "     53/59     2.58G   0.01559   0.01123         0         9       640: 100% 108/108 [00:18<00:00,  5.86it/s]\n",
            "               Class     Images     Labels          P          R     mAP@.5 mAP@.5:.95: 100% 2/2 [00:00<00:00,  8.04it/s]\n",
            "                 all         20         43      0.974      0.881      0.942      0.755\n",
            "\n",
            "     Epoch   gpu_mem       box       obj       cls    labels  img_size\n",
            "     54/59     2.58G   0.01439   0.01073         0        11       640: 100% 108/108 [00:18<00:00,  5.89it/s]\n",
            "               Class     Images     Labels          P          R     mAP@.5 mAP@.5:.95: 100% 2/2 [00:00<00:00,  8.08it/s]\n",
            "                 all         20         43       0.97      0.884      0.941      0.755\n",
            "\n",
            "     Epoch   gpu_mem       box       obj       cls    labels  img_size\n",
            "     55/59     2.58G   0.01567   0.01146         0        23       640: 100% 108/108 [00:18<00:00,  5.89it/s]\n",
            "               Class     Images     Labels          P          R     mAP@.5 mAP@.5:.95: 100% 2/2 [00:00<00:00,  8.14it/s]\n",
            "                 all         20         43      0.969      0.884       0.93      0.753\n",
            "\n",
            "     Epoch   gpu_mem       box       obj       cls    labels  img_size\n",
            "     56/59     2.58G   0.01496   0.01133         0         7       640: 100% 108/108 [00:18<00:00,  5.82it/s]\n",
            "               Class     Images     Labels          P          R     mAP@.5 mAP@.5:.95: 100% 2/2 [00:00<00:00,  8.15it/s]\n",
            "                 all         20         43      0.971      0.884       0.93      0.751\n",
            "\n",
            "     Epoch   gpu_mem       box       obj       cls    labels  img_size\n",
            "     57/59     2.58G   0.01511   0.01103         0        10       640: 100% 108/108 [00:18<00:00,  5.84it/s]\n",
            "               Class     Images     Labels          P          R     mAP@.5 mAP@.5:.95: 100% 2/2 [00:00<00:00,  7.82it/s]\n",
            "                 all         20         43      0.971      0.884      0.919      0.736\n",
            "\n",
            "     Epoch   gpu_mem       box       obj       cls    labels  img_size\n",
            "     58/59     2.58G    0.0147   0.01173         0         7       640: 100% 108/108 [00:19<00:00,  5.65it/s]\n",
            "               Class     Images     Labels          P          R     mAP@.5 mAP@.5:.95: 100% 2/2 [00:00<00:00,  8.06it/s]\n",
            "                 all         20         43      0.971      0.884      0.922      0.747\n",
            "\n",
            "     Epoch   gpu_mem       box       obj       cls    labels  img_size\n",
            "     59/59     2.58G   0.01439   0.01102         0        12       640: 100% 108/108 [00:18<00:00,  5.89it/s]\n",
            "               Class     Images     Labels          P          R     mAP@.5 mAP@.5:.95: 100% 2/2 [00:00<00:00,  8.13it/s]\n",
            "                 all         20         43      0.969      0.884      0.924      0.752\n",
            "\n",
            "60 epochs completed in 0.328 hours.\n",
            "Optimizer stripped from runs/train/exp/weights/last.pt, 42.2MB\n",
            "Optimizer stripped from runs/train/exp/weights/best.pt, 42.2MB\n",
            "\n",
            "Validating runs/train/exp/weights/best.pt...\n",
            "Fusing layers... \n",
            "Model summary: 290 layers, 20852934 parameters, 0 gradients, 47.9 GFLOPs\n",
            "               Class     Images     Labels          P          R     mAP@.5 mAP@.5:.95: 100% 2/2 [00:00<00:00,  3.66it/s]\n",
            "                 all         20         43      0.974      0.882      0.942      0.755\n",
            "Results saved to \u001b[1mruns/train/exp\u001b[0m\n"
          ]
        }
      ],
      "source": [
        "# Fine tune YOLOv5s on custom dataset for 60 epochs, 5 mini-batch size\n",
        "!python train.py --img 640 --batch 5 --epochs 60 --data custom_data.yaml --weights yolov5m.pt --cache"
      ]
    },
    {
      "cell_type": "markdown",
      "metadata": {
        "id": "0eq1SMWl6Sfn"
      },
      "source": [
        "## 3. Validation\n",
        "Validate our best model on the validation set I uploaded on my Drive folder. The model used is \"runs/train/exp/weights/best.pt\", which is the best one found during the training. \"***custom_coco_testing.yaml***\" is the configuration file I wrote in order to perform the validation on the custom dataset. I specified which dataset to use and the classes we want the model to be able to predict."
      ]
    },
    {
      "cell_type": "code",
      "execution_count": null,
      "metadata": {
        "colab": {
          "base_uri": "https://localhost:8080/"
        },
        "id": "X58w8JLpMnjH",
        "outputId": "923369c6-dc94-420d-9c18-3de004850b41"
      },
      "outputs": [
        {
          "output_type": "stream",
          "name": "stdout",
          "text": [
            "\u001b[34m\u001b[1mval: \u001b[0mdata=/content/yolov5/data/custom_coco_testing.yaml, weights=['runs/train/exp/weights/best.pt'], batch_size=32, imgsz=640, conf_thres=0.001, iou_thres=0.65, task=val, device=, workers=8, single_cls=False, augment=False, verbose=False, save_txt=False, save_hybrid=False, save_conf=False, save_json=False, project=runs/val, name=exp, exist_ok=False, half=True, dnn=False\n",
            "YOLOv5 🚀 v6.1-304-g51fb467 Python-3.7.13 torch-1.11.0+cu102 CUDA:0 (Tesla T4, 15110MiB)\n",
            "\n",
            "Fusing layers... \n",
            "Model summary: 290 layers, 20852934 parameters, 0 gradients, 47.9 GFLOPs\n",
            "\u001b[34m\u001b[1mval: \u001b[0mScanning '/content/yolov5/../test/labels' images and labels...30 found, 0 missing, 0 empty, 0 corrupt: 100% 30/30 [00:00<00:00, 379.13it/s]\n",
            "\u001b[34m\u001b[1mval: \u001b[0mNew cache created: /content/yolov5/../test/labels.cache\n",
            "               Class     Images     Labels          P          R     mAP@.5 mAP@.5:.95: 100% 1/1 [00:01<00:00,  1.49s/it]\n",
            "                 all         30         65      0.924      0.985      0.975      0.727\n",
            "Speed: 0.1ms pre-process, 6.1ms inference, 1.9ms NMS per image at shape (32, 3, 640, 640)\n",
            "Results saved to \u001b[1mruns/val/exp\u001b[0m\n"
          ]
        }
      ],
      "source": [
        "# Run val.py on validationset\n",
        "!python val.py --weights runs/train/exp/weights/best.pt --data custom_coco_testing.yaml --img 640 --iou 0.65 --half"
      ]
    },
    {
      "cell_type": "markdown",
      "metadata": {
        "id": "4JnkELT0cIJg"
      },
      "source": [
        "## 4. Inference for single image test\n",
        "\n",
        "Using the best weights achieved so far (the path to the weights in my case was: runs/train/exp/weights/best.pt), the script `detect.py`can run the model inference on a wide range of sources, and save results to the `runs/detect` folder. Example inference sources are:\n",
        "\n",
        "```shell\n",
        "python detect.py --source 0  # webcam\n",
        "                          img.jpg  # image \n",
        "                          vid.mp4  # video\n",
        "                          path/  # directory\n",
        "                          path/*.jpg  # glob\n",
        "                          'https://youtu.be/Zgi9g1ksQHc'  # YouTube\n",
        "                          'rtsp://example.com/media.mp4'  # RTSP, RTMP, HTTP stream\n",
        "```"
      ]
    },
    {
      "cell_type": "code",
      "execution_count": null,
      "metadata": {
        "id": "zR9ZbuQCH7FX",
        "colab": {
          "base_uri": "https://localhost:8080/"
        },
        "outputId": "692f568c-c086-4f24-ddd2-d818768f7bc0"
      },
      "outputs": [
        {
          "output_type": "stream",
          "name": "stdout",
          "text": [
            "\u001b[34m\u001b[1mdetect: \u001b[0mweights=['runs/train/exp/weights/best.pt'], source=../test/images/, data=data/coco128.yaml, imgsz=[640, 640], conf_thres=0.25, iou_thres=0.45, max_det=1000, device=, view_img=False, save_txt=False, save_conf=False, save_crop=False, nosave=False, classes=None, agnostic_nms=False, augment=False, visualize=False, update=False, project=runs/detect, name=exp, exist_ok=False, line_thickness=3, hide_labels=False, hide_conf=False, half=False, dnn=False\n",
            "YOLOv5 🚀 v6.1-304-g51fb467 Python-3.7.13 torch-1.11.0+cu102 CUDA:0 (Tesla T4, 15110MiB)\n",
            "\n",
            "Fusing layers... \n",
            "Model summary: 290 layers, 20852934 parameters, 0 gradients, 47.9 GFLOPs\n",
            "image 1/30 /content/test/images/01.jpg: 384x640 2 hands, Done. (0.024s)\n",
            "image 2/30 /content/test/images/02.jpg: 384x640 2 hands, Done. (0.023s)\n",
            "image 3/30 /content/test/images/03.jpg: 384x640 2 hands, Done. (0.023s)\n",
            "image 4/30 /content/test/images/04.jpg: 384x640 2 hands, Done. (0.019s)\n",
            "image 5/30 /content/test/images/05.jpg: 384x640 2 hands, Done. (0.019s)\n",
            "image 6/30 /content/test/images/06.jpg: 384x640 3 hands, Done. (0.019s)\n",
            "image 7/30 /content/test/images/07.jpg: 384x640 3 hands, Done. (0.019s)\n",
            "image 8/30 /content/test/images/08.jpg: 384x640 2 hands, Done. (0.019s)\n",
            "image 9/30 /content/test/images/09.jpg: 384x640 2 hands, Done. (0.019s)\n",
            "image 10/30 /content/test/images/10.jpg: 384x640 2 hands, Done. (0.019s)\n",
            "image 11/30 /content/test/images/11.jpg: 384x640 3 hands, Done. (0.019s)\n",
            "image 12/30 /content/test/images/12.jpg: 384x640 4 hands, Done. (0.019s)\n",
            "image 13/30 /content/test/images/13.jpg: 384x640 3 hands, Done. (0.019s)\n",
            "image 14/30 /content/test/images/14.jpg: 384x640 4 hands, Done. (0.019s)\n",
            "image 15/30 /content/test/images/15.jpg: 384x640 3 hands, Done. (0.019s)\n",
            "image 16/30 /content/test/images/16.jpg: 384x640 3 hands, Done. (0.018s)\n",
            "image 17/30 /content/test/images/17.jpg: 384x640 3 hands, Done. (0.018s)\n",
            "image 18/30 /content/test/images/18.jpg: 384x640 4 hands, Done. (0.018s)\n",
            "image 19/30 /content/test/images/19.jpg: 384x640 2 hands, Done. (0.018s)\n",
            "image 20/30 /content/test/images/20.jpg: 384x640 3 hands, Done. (0.018s)\n",
            "image 21/30 /content/test/images/21.jpg: 384x640 1 hand, Done. (0.018s)\n",
            "image 22/30 /content/test/images/22.jpg: 384x640 2 hands, Done. (0.018s)\n",
            "image 23/30 /content/test/images/23.jpg: 384x640 1 hand, Done. (0.018s)\n",
            "image 24/30 /content/test/images/24.jpg: 384x640 1 hand, Done. (0.018s)\n",
            "image 25/30 /content/test/images/25.jpg: 384x640 2 hands, Done. (0.018s)\n",
            "image 26/30 /content/test/images/26.jpg: 384x640 1 hand, Done. (0.018s)\n",
            "image 27/30 /content/test/images/27.jpg: 384x640 2 hands, Done. (0.013s)\n",
            "image 28/30 /content/test/images/28.jpg: 384x640 1 hand, Done. (0.012s)\n",
            "image 29/30 /content/test/images/29.jpg: 384x640 1 hand, Done. (0.012s)\n",
            "image 30/30 /content/test/images/30.jpg: 384x640 1 hand, Done. (0.012s)\n",
            "Speed: 0.4ms pre-process, 18.2ms inference, 1.0ms NMS per image at shape (1, 3, 640, 640)\n",
            "Results saved to \u001b[1mruns/detect/exp\u001b[0m\n"
          ]
        }
      ],
      "source": [
        "# change \"conf\" value for different FP tolerance\n",
        "!python detect.py --weights runs/train/exp/weights/best.pt --img 640 --conf 0.25 --source ../test/images/\n",
        "\n",
        "# to use during the test to display the predicted images \n",
        "display.Image(filename='runs/detect/exp28/01.jpg', width=600)"
      ]
    },
    {
      "cell_type": "markdown",
      "metadata": {
        "id": "b2U74Sr2F_TL"
      },
      "source": [
        "## 5. Export best model"
      ]
    },
    {
      "cell_type": "code",
      "execution_count": null,
      "metadata": {
        "colab": {
          "base_uri": "https://localhost:8080/"
        },
        "id": "sywjmKLFGAaU",
        "outputId": "2934f6b1-88df-498b-a57e-fdf56f61268e"
      },
      "outputs": [
        {
          "output_type": "stream",
          "name": "stdout",
          "text": [
            "\u001b[34m\u001b[1mexport: \u001b[0mdata=data/coco128.yaml, weights=['runs/train/exp/weights/best.pt'], imgsz=[640, 640], batch_size=1, device=cpu, half=False, inplace=False, train=False, keras=False, optimize=False, int8=False, dynamic=False, simplify=False, opset=12, verbose=False, workspace=4, nms=False, agnostic_nms=False, topk_per_class=100, topk_all=100, iou_thres=0.45, conf_thres=0.25, include=['torchscript', 'onnx']\n",
            "YOLOv5 🚀 v6.1-304-g51fb467 Python-3.7.13 torch-1.11.0+cu102 CPU\n",
            "\n",
            "Fusing layers... \n",
            "Model summary: 290 layers, 20852934 parameters, 0 gradients, 47.9 GFLOPs\n",
            "\n",
            "\u001b[34m\u001b[1mPyTorch:\u001b[0m starting from runs/train/exp/weights/best.pt with output shape (1, 25200, 6) (40.3 MB)\n",
            "\n",
            "\u001b[34m\u001b[1mTorchScript:\u001b[0m starting export with torch 1.11.0+cu102...\n",
            "\u001b[34m\u001b[1mTorchScript:\u001b[0m export success, saved as runs/train/exp/weights/best.torchscript (80.1 MB)\n",
            "\n",
            "\u001b[34m\u001b[1mONNX:\u001b[0m starting export with onnx 1.12.0...\n",
            "\u001b[34m\u001b[1mONNX:\u001b[0m export success, saved as runs/train/exp/weights/best.onnx (80.0 MB)\n",
            "\n",
            "Export complete (12.21s)\n",
            "Results saved to \u001b[1m/content/yolov5/runs/train/exp/weights\u001b[0m\n",
            "Detect:          python detect.py --weights runs/train/exp/weights/best.onnx \n",
            "Validate:        python val.py --weights runs/train/exp/weights/best.onnx \n",
            "PyTorch Hub:     model = torch.hub.load('ultralytics/yolov5', 'custom', 'runs/train/exp/weights/best.onnx')\n",
            "Visualize:       https://netron.app\n"
          ]
        }
      ],
      "source": [
        "#export the best model by converting the best weights \"best.pt\" into an .onnx file\n",
        "!python export.py --weights runs/train/exp/weights/best.pt --include onnx"
      ]
    }
  ],
  "metadata": {
    "colab": {
      "collapsed_sections": [
        "4JnkELT0cIJg",
        "eyTZYGgRjnMc",
        "ZY2VXXXu74w5",
        "b2U74Sr2F_TL"
      ],
      "machine_shape": "hm",
      "name": "YOLOv5",
      "provenance": []
    },
    "gpuClass": "standard",
    "kernelspec": {
      "display_name": "Python 3",
      "name": "python3"
    }
  },
  "nbformat": 4,
  "nbformat_minor": 0
}